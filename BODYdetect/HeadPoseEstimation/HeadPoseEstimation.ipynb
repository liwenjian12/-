{
 "cells": [
  {
   "attachments": {},
   "cell_type": "markdown",
   "metadata": {},
   "source": [
    "# anything about human body detect\n",
    "<!--TOC-->\n",
    "- [头部姿态估计](#头部姿态估计)\n",
    "  - [Hopenet](#Hopenet)\n",
    "  - [HyperFace](#HyperFace)\n",
    "<!--/TOC-->\n",
    "\n",
    "## 头部姿态估计 (Head Pose Estimation) \n",
    "<font style=\"color:red\" size=4> 比较经典的Head Pose Estimation 算法的步骤一般为：\n",
    "    - 2D人脸关键点检测\n",
    "    - 3D人脸模型匹配\n",
    "    - 求解3D点和对应2D点的转换关系\n",
    "    - 根据旋转矩阵求解欧拉角\n",
    "</font>\n",
    "\n",
    "<font style=\"color:blue\" size=3>\n",
    " 原理：众所周知一个物体相对于相机的姿态可以使用旋转矩阵和平移矩阵来表示。  \n",
    "    平移矩阵：物体相对于相机的空间位置关系矩阵，用T表示；  \n",
    "    旋转矩阵：物体相对于相机的空间姿态关系矩阵，用R表示；  \n",
    "    3D和2D的对应关系如图：  \n",
    "    <img src=\"3Dconnect2D.png\", width=320, heigth=240>\n",
    "</font>\n",
    "\n",
    "### 应用场景和目的\n",
    "1. 注意力检测：通过判断头部姿态可以判断人的注意力情况，司机，学生\n",
    "2. 行为分析：通过视频监控分析来分析人的动向、等等\n",
    "3. 人际互动：头部动作有时可以表示意义，传递信息。(摇头否认，点头同意等等)\n",
    "4. 实现追踪：也可称为眼球跟踪。实现追踪可以用在游戏领域，\n",
    "\n",
    "### 如何理解原理\n",
    "**要先了解相机标定:** 在图像测量过程以及机器视觉应用中，为确定空间物体表面某点的三维几何位置与其在图像中对应点之间的相互关系，必须建立相机成像的几何模型，这些几何模型参数就是相机参数。在大多数条件下这些参数必须通过实验与计算才能得到，这个求解参数的过程就称之为相机标定（或摄像机标定）。无论是在图像测量或者机器视觉应用中，相机参数的标定都是非常关键的环节，其标定结果的精度及算法的稳定性直接影响相机工作产生结果的准确性。因此，做好相机标定是做好后续工作的前提，提高标定精度是科研工作的重点所在。\n",
    "**相机标定相关问题**\n",
    "1. 坐标系的转换\n",
    "  - 世界坐标系\n",
    "  - 相机坐标系\n",
    "  - 世界坐标系转换为相机坐标系\n",
    "  - 像素坐标系、图像坐标系\n",
    "  - 针孔成像原理\n",
    "  - 世界坐标系转换为像素坐标系\n",
    "2. 相机内参与畸变参数\n",
    "  - 相机内参\n",
    "  - 畸变参数：径向畸变、切向畸变\n",
    "  - opencv中的畸变模型\n",
    "  - 张氏标定中的畸变模型\n",
    "  - Tasi畸变模型\n",
    "3. 相机标定\n",
    "\n"
   ]
  },
  {
   "cell_type": "code",
   "execution_count": null,
   "metadata": {},
   "outputs": [],
   "source": []
  }
 ],
 "metadata": {
  "kernelspec": {
   "display_name": "Python 3",
   "language": "python",
   "name": "python3"
  },
  "language_info": {
   "codemirror_mode": {
    "name": "ipython",
    "version": 3
   },
   "file_extension": ".py",
   "mimetype": "text/x-python",
   "name": "python",
   "nbconvert_exporter": "python",
   "pygments_lexer": "ipython3",
   "version": "3.6.7"
  }
 },
 "nbformat": 4,
 "nbformat_minor": 2
}
